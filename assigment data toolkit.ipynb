{
 "cells": [
  {
   "cell_type": "code",
   "execution_count": null,
   "id": "2b79da65-2c25-4962-ae79-46e86bcc8a1a",
   "metadata": {},
   "outputs": [],
   "source": [
    "1. What is NumPy, and why is it widely used in Python ?\n",
    "=> NumPy provides:\n",
    "   A multi-dimensional array object called ndarray\n",
    "   Functions for performing operations on arrays (like element-wise math, linear algebra, statistics)\n",
    "=> widely used for -> 1. Fast and Efficient.\n",
    "                      2. Powerful N-D array.\n",
    "                      3. Broad Functionality.\n"
   ]
  },
  {
   "cell_type": "code",
   "execution_count": null,
   "id": "e06e1638-eb9e-448b-9db1-0aad6576a428",
   "metadata": {},
   "outputs": [],
   "source": [
    "How does broadcasting work in NumPy ?\n",
    "=> Broadcasting is a set of rules that NumPy uses to perform operations between\n",
    "   arrays of different shapes as if they had the same shape.\n",
    "=> When operating on two arrays, NumPy compares their shapes element-wise\n",
    "   (starting from the trailing dimensions) and follows these rules:\n",
    "  -> If the dimensions are equal, they are compatible.\n",
    "  ->If one of the dimensions is 1, it is stretched to match the other.\n",
    "  ->If they are not equal and neither is 1, an error is raised.\n",
    "\n",
    "\n"
   ]
  },
  {
   "cell_type": "code",
   "execution_count": null,
   "id": "6cb8adcc-94e4-4b42-8947-6820544e8ad5",
   "metadata": {},
   "outputs": [],
   "source": [
    "What is a Pandas DataFrame ?\n",
    "=> A Pandas DataFrame is a 2-dimensional, labeled, and mutable data structure in Python provided by the Pandas library,\n",
    "   used for working with tabular data (like a spreadsheet or SQL table)."
   ]
  },
  {
   "cell_type": "code",
   "execution_count": null,
   "id": "814d01a7-d97a-4229-9106-d0e68a29778b",
   "metadata": {},
   "outputs": [],
   "source": [
    " Explain the use of the groupby() method in Pandas ?\n",
    "=> The groupby() method in Pandas is used to split data into groups based on some criteria, then apply a function (like sum(), mean(), etc.)\n",
    "to each group, and finally combine the results."
   ]
  },
  {
   "cell_type": "code",
   "execution_count": null,
   "id": "85732998-c141-4802-b2bc-7e0e6997807e",
   "metadata": {},
   "outputs": [],
   "source": [
    " Why is Seaborn preferred for statistical visualizations ?\n",
    "=> Seaborn is preferred for statistical visualizations in Python because it builds on \n",
    "   Matplotlib and makes it easier to create beautiful, informative, and statistically rich plots with less code.\n",
    "\n"
   ]
  },
  {
   "cell_type": "code",
   "execution_count": null,
   "id": "a2616fe1-330b-49dc-b522-5a5571f8bfe1",
   "metadata": {},
   "outputs": [],
   "source": [
    "What are the differences between NumPy arrays and Python lists ? \n",
    "=> 1. NumPy arrays are much faster than Python lists for numerical operations\n",
    "      Python lists are slower due to dynamic typing and interpreted loops\n",
    "   2. NumPy uses less memory (compact and typed data)\n",
    "       Lists use more memory as each element is a full Python object\n",
    "   3. NumPy arrays store data of the same type (faster computation)\n",
    "      Python lists can store mixed data types (but slower)\n",
    "   4. NumPy arrays store data of the same type (faster computation)\n",
    "      Python lists can store mixed data types (but slower)"
   ]
  },
  {
   "cell_type": "code",
   "execution_count": null,
   "id": "c52e06e8-1bfc-4737-a997-b55ac15070ab",
   "metadata": {},
   "outputs": [],
   "source": [
    "What is a heatmap, and when should it be used ?\n",
    "=> A heatmap is a data visualization technique that represents numerical data using colors, \n",
    "   making it easy to see patterns, correlations, and outliers at a glance.\n",
    "     -> A 2D graphical representation of data\n",
    "     ->Each cell is colored based on its value\n",
    "     ->Often used to visualize matrices or tabular data"
   ]
  },
  {
   "cell_type": "code",
   "execution_count": null,
   "id": "75ad40ca-d540-413e-8813-ea1899a1d983",
   "metadata": {},
   "outputs": [],
   "source": [
    "What does the term “vectorized operation” mean in NumPy ?\n",
    "=> Instead of processing elements one by one (like in regular Python with for loops), NumPy applies\n",
    "  operations to whole arrays at once, using optimized C code under the hood.\n",
    "\n"
   ]
  },
  {
   "cell_type": "code",
   "execution_count": null,
   "id": "398b4757-9c0f-474e-944e-354460baedbf",
   "metadata": {},
   "outputs": [],
   "source": [
    " How does Matplotlib differ from Plotly ?\n",
    "=> Matplotlib and Plotly are both popular Python libraries for data visualization, but they serve \n",
    "   slightly different purposes and have different strengths."
   ]
  },
  {
   "cell_type": "code",
   "execution_count": null,
   "id": "1fccee10-f293-4996-9568-b02f3c711f2b",
   "metadata": {},
   "outputs": [],
   "source": [
    " What is the significance of hierarchical indexing in Pandas ?\n",
    "=> Hierarchical indexing lets you organize data in a tree-like structure using multiple keys (levels) \n",
    "   instead of just one row or column label.\n",
    "   Row index can have more than one level\n",
    "   Column index can also be hierarchical"
   ]
  },
  {
   "cell_type": "code",
   "execution_count": null,
   "id": "753cb97f-c59f-42e0-bc87-9a72bed1e9e4",
   "metadata": {},
   "outputs": [],
   "source": [
    "What is the role of Seaborn’s pairplot() function ? \n",
    "=> The pairplot() function in Seaborn is used to create a grid of plots that visualize pairwise\n",
    "   relationships between multiple numerical variables in a dataset.\n",
    "   Plots every numerical variable against every other one\n",
    "   Diagonal shows distributions (usually histograms or KDE plots)\n",
    "   Off-diagonal shows scatter plots\n"
   ]
  },
  {
   "cell_type": "code",
   "execution_count": null,
   "id": "6d9f9883-5c5c-4f1e-a6cf-e48c4e18b57e",
   "metadata": {},
   "outputs": [],
   "source": [
    "What is the purpose of the describe() function in Pandas ? \n",
    "The describe() function in Pandas is used to generate a summary of descriptive statistics for a DataFrame.                DataFrame or Series.\n",
    "\n"
   ]
  },
  {
   "cell_type": "code",
   "execution_count": null,
   "id": "80808c9a-0140-499f-9781-8a185c88375e",
   "metadata": {},
   "outputs": [],
   "source": [
    "Why is handling missing data important in Pandas ? \n",
    "=> Handling missing data in Pandas is crucial because missing values can:\n",
    "   Distort analysis\n",
    "   Break algorithms\n",
    "   Lead to misleading results\n",
    "\n"
   ]
  },
  {
   "cell_type": "code",
   "execution_count": null,
   "id": "44dc3719-6a63-4545-9fd5-275ebd5e4174",
   "metadata": {},
   "outputs": [],
   "source": [
    "What are the benefits of using Plotly for data visualization ? \n",
    "=> Highly Interactive: Plotly charts allow users to zoom, pan, hover for detailed tooltips, and \n",
    "   click for additional information, supporting deeper data exploration.\n",
    "   Simple Syntax: Plotly Express, a high-level API, enables creation of complex graphs with\n",
    "   minimal code—ideal for quick prototyping and exploration"
   ]
  },
  {
   "cell_type": "code",
   "execution_count": null,
   "id": "663ef3b9-9984-4763-85bd-a1ddf9cde85f",
   "metadata": {},
   "outputs": [],
   "source": [
    " How does NumPy handle multidimensional arrays ? \n",
    "=> NumPy handles multidimensional arrays using its core object called the ndarray, which can represent \n",
    "   arrays of any number of dimensions (axes), allowing for efficient storage, manipulation, and\n",
    "   mathematical operations on large data sets."
   ]
  },
  {
   "cell_type": "code",
   "execution_count": null,
   "id": "07ccaaf2-9103-473b-90c4-372a0d0db57d",
   "metadata": {},
   "outputs": [],
   "source": [
    "What is the role of Bokeh in data visualization ? \n",
    "=> Bokeh plays a central role in data visualization as a Python library for creating highly interactive,\n",
    "   browser-based visualizations and dashboards."
   ]
  },
  {
   "cell_type": "code",
   "execution_count": null,
   "id": "bc2b47ca-96ad-48eb-a0e0-ce8fc54c1e73",
   "metadata": {},
   "outputs": [],
   "source": [
    "Explain the difference between apply() and map() in Pandas ? \n",
    "=> Pandas provides several methods for transforming data in Series and DataFrames. Two commonly used \n",
    "   methods are apply() and map()\n",
    "  -> map () = Works only on Pandas Series (i.e., a single column).\n",
    "              Applies a function, dictionary, or Series element-wise to each value in the Series.\n",
    "  -> apply() = Works on both Series and DataFrames\n",
    "               Applies a function element-wise (similar to map()) but only accepts a callable.\n",
    "               Applies a function along a specified axis (either rows or columns), allowing for more\n",
    "               complex operations involving an entire row or column.\n"
   ]
  },
  {
   "cell_type": "code",
   "execution_count": null,
   "id": "d57e85de-49a8-49c7-8d70-7598fc690d8f",
   "metadata": {},
   "outputs": [],
   "source": [
    "What are some advanced features of NumPy ? \n",
    "=> Broadcasting: Enables arithmetic operations between arrays of different shapes by automatically \n",
    "   expanding the smaller array along the missing dimensions.\n",
    "   Universal Functions (ufuncs): Highly optimized, element-wise functions like np.sin, np.exp,\n",
    "   or np.sqrt that operate on entire arrays efficiently without the need for explicit Python loops"
   ]
  },
  {
   "cell_type": "code",
   "execution_count": null,
   "id": "af8042b6-fca8-4533-bee4-76f333cb648f",
   "metadata": {},
   "outputs": [],
   "source": [
    "How does Pandas simplify time series analysis ? \n",
    "=> Pandas simplifies time series analysis by providing powerful tools to handle date/time data,\n",
    "   perform resampling, and run rolling window calculations—all with minimal code.\n",
    "\n"
   ]
  },
  {
   "cell_type": "code",
   "execution_count": null,
   "id": "531c571e-6573-4a92-8f19-d23c1b455eaf",
   "metadata": {},
   "outputs": [],
   "source": [
    " What is the role of a pivot table in Pandas ?\n",
    "=>  A pivot table in Pandas is a powerful tool used to summarize, group, and reorganize data.\n",
    "    It lets you reshape a DataFrame to better analyze patterns, aggregate values, and compare data\n",
    "   across multiple dimensions."
   ]
  },
  {
   "cell_type": "code",
   "execution_count": null,
   "id": "676ce412-662c-4342-9ee3-9c4623c5c31a",
   "metadata": {},
   "outputs": [],
   "source": [
    "Why is NumPy’s array slicing faster than Python’s list slicing ? \n",
    "=> NumPy’s array slicing is faster than Python’s list slicing because NumPy is built for\n",
    "   high-performance numerical operations, using compiled C code under the hood, and it handles data\n",
    "    more efficiently in contiguous memory blocks.\n",
    "\n"
   ]
  },
  {
   "cell_type": "code",
   "execution_count": null,
   "id": "d41f9f49-e4c0-426c-8564-f1ebc1a79bc9",
   "metadata": {},
   "outputs": [],
   "source": [
    "What are some common use cases for Seaborn?\n",
    "=> Seaborn is a Python data visualization library built on top of Matplotlib, specifically designed for\n",
    "   statistical graphics. It's widely used in data analysis, machine learning, and exploratory data analysis (EDA)."
   ]
  },
  {
   "cell_type": "code",
   "execution_count": null,
   "id": "934d0ed5-96de-4552-a9ce-d6542033b0d2",
   "metadata": {},
   "outputs": [],
   "source": [
    "Practical"
   ]
  },
  {
   "cell_type": "code",
   "execution_count": 1,
   "id": "764c6f70-947a-4a83-a00a-11e243e9c6ff",
   "metadata": {},
   "outputs": [
    {
     "name": "stdout",
     "output_type": "stream",
     "text": [
      "2D Array:\n",
      " [[ 1  2  3  4]\n",
      " [ 5  6  7  8]\n",
      " [ 9 10 11 12]]\n",
      "Row-wise Sum: [10 26 42]\n"
     ]
    }
   ],
   "source": [
    "#How do you create a 2D NumPy array and calculate the sum of each row ? \n",
    "import numpy as np\n",
    "array_2d = np.array([\n",
    "    [1, 2, 3, 4],\n",
    "    [5, 6, 7, 8],\n",
    "    [9, 10, 11, 12]\n",
    "])\n",
    "row_sums = np.sum(array_2d, axis=1)\n",
    "\n",
    "print(\"2D Array:\\n\", array_2d)\n",
    "print(\"Row-wise Sum:\", row_sums)\n"
   ]
  },
  {
   "cell_type": "code",
   "execution_count": 3,
   "id": "e5e051ee-84df-471d-9fe2-6ac934b2d7db",
   "metadata": {},
   "outputs": [
    {
     "name": "stdout",
     "output_type": "stream",
     "text": [
      "Mean Salary: 57500.0\n"
     ]
    }
   ],
   "source": [
    "# Write a Pandas script to find the mean of a specific column in a DataFrame ? \n",
    "import pandas as pd\n",
    "data = {\n",
    "    'Name': ['Alice', 'Bob', 'Charlie', 'David'],\n",
    "    'Age': [25, 30, 35, 40],\n",
    "    'Salary': [50000, 60000, 55000, 65000]\n",
    "}\n",
    "\n",
    "df = pd.DataFrame(data)\n",
    "salary_mean = df['Salary'].mean()\n",
    "\n",
    "print(\"Mean Salary:\", salary_mean)\n"
   ]
  },
  {
   "cell_type": "code",
   "execution_count": 10,
   "id": "0e7b8344-cf41-43e7-8854-c128eea9abdc",
   "metadata": {},
   "outputs": [
    {
     "data": {
      "image/png": "[encoded data removed]",
      "text/plain": [
       "<Figure size 640x480 with 1 Axes>"
      ]
     },
     "metadata": {},
     "output_type": "display_data"
    }
   ],
   "source": [
    "#Create a scatter plot using Matplotlib ? \n",
    "import matplotlib.pyplot as plt\n",
    "x = [10, 20, 30, 40, 50]\n",
    "y = [15, 25, 35, 45, 55]\n",
    "plt.scatter(x, y, color='blue', marker='o')\n",
    "plt.xlabel('X-axis')\n",
    "plt.ylabel('Y-axis')\n",
    "plt.title('Simple Scatter Plot')\n",
    "plt.show()\n"
   ]
  },
  {
   "cell_type": "code",
   "execution_count": 18,
   "id": "ccf63162-5283-4621-b41c-9e15e23fdea4",
   "metadata": {},
   "outputs": [
    {
     "data": {
      "image/png": "[encoded data removed]",
      "text/plain": [
       "<Figure size 640x480 with 2 Axes>"
      ]
     },
     "metadata": {},
     "output_type": "display_data"
    }
   ],
   "source": [
    "# How do you calculate the correlation matrix using Seaborn and visualize it with a heatmap ? \n",
    "import pandas as pd\n",
    "import seaborn as sns\n",
    "import matplotlib.pyplot as plt\n",
    "data = {\n",
    "    'Math': [85, 78, 92, 65, 90],\n",
    "    'Physics': [82, 75, 88, 70, 95],\n",
    "    'Chemistry': [80, 72, 89, 68, 92]\n",
    "}\n",
    "\n",
    "df = pd.DataFrame(data)\n",
    "corr_matrix = df.corr()\n",
    "\n",
    "sns.heatmap(corr_matrix, annot=True, cmap='coolwarm', fmt=\".2f\", linewidths=0.5)\n",
    "\n",
    "plt.title(\"Correlation Matrix Heatmap\")\n",
    "plt.show()\n"
   ]
  },
  {
   "cell_type": "code",
   "execution_count": 2,
   "id": "00aa4d44-d5cb-46d6-b5f9-b0d7b4ee04d5",
   "metadata": {},
   "outputs": [
    {
     "data": {
      "application/vnd.plotly.v1+json": {
       "config": {
        "plotlyServerURL": "https://plot.ly"
       },
       "data": [
        {
         "hovertemplate": "Fruit=%{x}<br>Quantity=%{y}<extra></extra>",
         "legendgroup": "",
         "marker": {
          "color": "#636efa",
          "pattern": {
           "shape": ""
          }
         },
         "name": "",
         "orientation": "v",
         "showlegend": false,
         "textposition": "auto",
         "type": "bar",
         "x": [
          "Apples",
          "Bananas",
          "Cherries",
          "Dates"
         ],
         "xaxis": "x",
         "y": {
          "bdata": "Mh4UDw==",
          "dtype": "i1"
         },
         "yaxis": "y"
        }
       ],
       "layout": {
        "barmode": "relative",
        "legend": {
         "tracegroupgap": 0
        },
        "template": {
         "data": {
          "bar": [
           {
            "error_x": {
             "color": "#2a3f5f"
            },
            "error_y": {
             "color": "#2a3f5f"
            },
            "marker": {
             "line": {
              "color": "#E5ECF6",
              "width": 0.5
             },
             "pattern": {
              "fillmode": "overlay",
              "size": 10,
              "solidity": 0.2
             }
            },
            "type": "bar"
           }
          ],
          "barpolar": [
           {
            "marker": {
             "line": {
              "color": "#E5ECF6",
              "width": 0.5
             },
             "pattern": {
              "fillmode": "overlay",
              "size": 10,
              "solidity": 0.2
             }
            },
            "type": "barpolar"
           }
          ],
          "carpet": [
           {
            "aaxis": {
             "endlinecolor": "#2a3f5f",
             "gridcolor": "white",
             "linecolor": "white",
             "minorgridcolor": "white",
             "startlinecolor": "#2a3f5f"
            },
            "baxis": {
             "endlinecolor": "#2a3f5f",
             "gridcolor": "white",
             "linecolor": "white",
             "minorgridcolor": "white",
             "startlinecolor": "#2a3f5f"
            },
            "type": "carpet"
           }
          ],
          "choropleth": [
           {
            "colorbar": {
             "outlinewidth": 0,
             "ticks": ""
            },
            "type": "choropleth"
           }
          ],
          "contour": [
           {
            "colorbar": {
             "outlinewidth": 0,
             "ticks": ""
            },
            "colorscale": [
             [
              0,
              "#0d0887"
             ],
             [
              0.1111111111111111,
              "#46039f"
             ],
             [
              0.2222222222222222,
              "#7201a8"
             ],
             [
              0.3333333333333333,
              "#9c179e"
             ],
             [
              0.4444444444444444,
              "#bd3786"
             ],
             [
              0.5555555555555556,
              "#d8576b"
             ],
             [
              0.6666666666666666,
              "#ed7953"
             ],
             [
              0.7777777777777778,
              "#fb9f3a"
             ],
             [
              0.8888888888888888,
              "#fdca26"
             ],
             [
              1,
              "#f0f921"
             ]
            ],
            "type": "contour"
           }
          ],
          "contourcarpet": [
           {
            "colorbar": {
             "outlinewidth": 0,
             "ticks": ""
            },
            "type": "contourcarpet"
           }
          ],
          "heatmap": [
           {
            "colorbar": {
             "outlinewidth": 0,
             "ticks": ""
            },
            "colorscale": [
             [
              0,
              "#0d0887"
             ],
             [
              0.1111111111111111,
              "#46039f"
             ],
             [
              0.2222222222222222,
              "#7201a8"
             ],
             [
              0.3333333333333333,
              "#9c179e"
             ],
             [
              0.4444444444444444,
              "#bd3786"
             ],
             [
              0.5555555555555556,
              "#d8576b"
             ],
             [
              0.6666666666666666,
              "#ed7953"
             ],
             [
              0.7777777777777778,
              "#fb9f3a"
             ],
             [
              0.8888888888888888,
              "#fdca26"
             ],
             [
              1,
              "#f0f921"
             ]
            ],
            "type": "heatmap"
           }
          ],
          "histogram": [
           {
            "marker": {
             "pattern": {
              "fillmode": "overlay",
              "size": 10,
              "solidity": 0.2
             }
            },
            "type": "histogram"
           }
          ],
          "histogram2d": [
           {
            "colorbar": {
             "outlinewidth": 0,
             "ticks": ""
            },
            "colorscale": [
             [
              0,
              "#0d0887"
             ],
             [
              0.1111111111111111,
              "#46039f"
             ],
             [
              0.2222222222222222,
              "#7201a8"
             ],
             [
              0.3333333333333333,
              "#9c179e"
             ],
             [
              0.4444444444444444,
              "#bd3786"
             ],
             [
              0.5555555555555556,
              "#d8576b"
             ],
             [
              0.6666666666666666,
              "#ed7953"
             ],
             [
              0.7777777777777778,
              "#fb9f3a"
             ],
             [
              0.8888888888888888,
              "#fdca26"
             ],
             [
              1,
              "#f0f921"
             ]
            ],
            "type": "histogram2d"
           }
          ],
          "histogram2dcontour": [
           {
            "colorbar": {
             "outlinewidth": 0,
             "ticks": ""
            },
            "colorscale": [
             [
              0,
              "#0d0887"
             ],
             [
              0.1111111111111111,
              "#46039f"
             ],
             [
              0.2222222222222222,
              "#7201a8"
             ],
             [
              0.3333333333333333,
              "#9c179e"
             ],
             [
              0.4444444444444444,
              "#bd3786"
             ],
             [
              0.5555555555555556,
              "#d8576b"
             ],
             [
              0.6666666666666666,
              "#ed7953"
             ],
             [
              0.7777777777777778,
              "#fb9f3a"
             ],
             [
              0.8888888888888888,
              "#fdca26"
             ],
             [
              1,
              "#f0f921"
             ]
            ],
            "type": "histogram2dcontour"
           }
          ],
          "mesh3d": [
           {
            "colorbar": {
             "outlinewidth": 0,
             "ticks": ""
            },
            "type": "mesh3d"
           }
          ],
          "parcoords": [
           {
            "line": {
             "colorbar": {
              "outlinewidth": 0,
              "ticks": ""
             }
            },
            "type": "parcoords"
           }
          ],
          "pie": [
           {
            "automargin": true,
            "type": "pie"
           }
          ],
          "scatter": [
           {
            "fillpattern": {
             "fillmode": "overlay",
             "size": 10,
             "solidity": 0.2
            },
            "type": "scatter"
           }
          ],
          "scatter3d": [
           {
            "line": {
             "colorbar": {
              "outlinewidth": 0,
              "ticks": ""
             }
            },
            "marker": {
             "colorbar": {
              "outlinewidth": 0,
              "ticks": ""
             }
            },
            "type": "scatter3d"
           }
          ],
          "scattercarpet": [
           {
            "marker": {
             "colorbar": {
              "outlinewidth": 0,
              "ticks": ""
             }
            },
            "type": "scattercarpet"
           }
          ],
          "scattergeo": [
           {
            "marker": {
             "colorbar": {
              "outlinewidth": 0,
              "ticks": ""
             }
            },
            "type": "scattergeo"
           }
          ],
          "scattergl": [
           {
            "marker": {
             "colorbar": {
              "outlinewidth": 0,
              "ticks": ""
             }
            },
            "type": "scattergl"
           }
          ],
          "scattermap": [
           {
            "marker": {
             "colorbar": {
              "outlinewidth": 0,
              "ticks": ""
             }
            },
            "type": "scattermap"
           }
          ],
          "scattermapbox": [
           {
            "marker": {
             "colorbar": {
              "outlinewidth": 0,
              "ticks": ""
             }
            },
            "type": "scattermapbox"
           }
          ],
          "scatterpolar": [
           {
            "marker": {
             "colorbar": {
              "outlinewidth": 0,
              "ticks": ""
             }
            },
            "type": "scatterpolar"
           }
          ],
          "scatterpolargl": [
           {
            "marker": {
             "colorbar": {
              "outlinewidth": 0,
              "ticks": ""
             }
            },
            "type": "scatterpolargl"
           }
          ],
          "scatterternary": [
           {
            "marker": {
             "colorbar": {
              "outlinewidth": 0,
              "ticks": ""
             }
            },
            "type": "scatterternary"
           }
          ],
          "surface": [
           {
            "colorbar": {
             "outlinewidth": 0,
             "ticks": ""
            },
            "colorscale": [
             [
              0,
              "#0d0887"
             ],
             [
              0.1111111111111111,
              "#46039f"
             ],
             [
              0.2222222222222222,
              "#7201a8"
             ],
             [
              0.3333333333333333,
              "#9c179e"
             ],
             [
              0.4444444444444444,
              "#bd3786"
             ],
             [
              0.5555555555555556,
              "#d8576b"
             ],
             [
              0.6666666666666666,
              "#ed7953"
             ],
             [
              0.7777777777777778,
              "#fb9f3a"
             ],
             [
              0.8888888888888888,
              "#fdca26"
             ],
             [
              1,
              "#f0f921"
             ]
            ],
            "type": "surface"
           }
          ],
          "table": [
           {
            "cells": {
             "fill": {
              "color": "#EBF0F8"
             },
             "line": {
              "color": "white"
             }
            },
            "header": {
             "fill": {
              "color": "#C8D4E3"
             },
             "line": {
              "color": "white"
             }
            },
            "type": "table"
           }
          ]
         },
         "layout": {
          "annotationdefaults": {
           "arrowcolor": "#2a3f5f",
           "arrowhead": 0,
           "arrowwidth": 1
          },
          "autotypenumbers": "strict",
          "coloraxis": {
           "colorbar": {
            "outlinewidth": 0,
            "ticks": ""
           }
          },
          "colorscale": {
           "diverging": [
            [
             0,
             "#8e0152"
            ],
            [
             0.1,
             "#c51b7d"
            ],
            [
             0.2,
             "#de77ae"
            ],
            [
             0.3,
             "#f1b6da"
            ],
            [
             0.4,
             "#fde0ef"
            ],
            [
             0.5,
             "#f7f7f7"
            ],
            [
             0.6,
             "#e6f5d0"
            ],
            [
             0.7,
             "#b8e186"
            ],
            [
             0.8,
             "#7fbc41"
            ],
            [
             0.9,
             "#4d9221"
            ],
            [
             1,
             "#276419"
            ]
           ],
           "sequential": [
            [
             0,
             "#0d0887"
            ],
            [
             0.1111111111111111,
             "#46039f"
            ],
            [
             0.2222222222222222,
             "#7201a8"
            ],
            [
             0.3333333333333333,
             "#9c179e"
            ],
            [
             0.4444444444444444,
             "#bd3786"
            ],
            [
             0.5555555555555556,
             "#d8576b"
            ],
            [
             0.6666666666666666,
             "#ed7953"
            ],
            [
             0.7777777777777778,
             "#fb9f3a"
            ],
            [
             0.8888888888888888,
             "#fdca26"
            ],
            [
             1,
             "#f0f921"
            ]
           ],
           "sequentialminus": [
            [
             0,
             "#0d0887"
            ],
            [
             0.1111111111111111,
             "#46039f"
            ],
            [
             0.2222222222222222,
             "#7201a8"
            ],
            [
             0.3333333333333333,
             "#9c179e"
            ],
            [
             0.4444444444444444,
             "#bd3786"
            ],
            [
             0.5555555555555556,
             "#d8576b"
            ],
            [
             0.6666666666666666,
             "#ed7953"
            ],
            [
             0.7777777777777778,
             "#fb9f3a"
            ],
            [
             0.8888888888888888,
             "#fdca26"
            ],
            [
             1,
             "#f0f921"
            ]
           ]
          },
          "colorway": [
           "#636efa",
           "#EF553B",
           "#00cc96",
           "#ab63fa",
           "#FFA15A",
           "#19d3f3",
           "#FF6692",
           "#B6E880",
           "#FF97FF",
           "#FECB52"
          ],
          "font": {
           "color": "#2a3f5f"
          },
          "geo": {
           "bgcolor": "white",
           "lakecolor": "white",
           "landcolor": "#E5ECF6",
           "showlakes": true,
           "showland": true,
           "subunitcolor": "white"
          },
          "hoverlabel": {
           "align": "left"
          },
          "hovermode": "closest",
          "mapbox": {
           "style": "light"
          },
          "paper_bgcolor": "white",
          "plot_bgcolor": "#E5ECF6",
          "polar": {
           "angularaxis": {
            "gridcolor": "white",
            "linecolor": "white",
            "ticks": ""
           },
           "bgcolor": "#E5ECF6",
           "radialaxis": {
            "gridcolor": "white",
            "linecolor": "white",
            "ticks": ""
           }
          },
          "scene": {
           "xaxis": {
            "backgroundcolor": "#E5ECF6",
            "gridcolor": "white",
            "gridwidth": 2,
            "linecolor": "white",
            "showbackground": true,
            "ticks": "",
            "zerolinecolor": "white"
           },
           "yaxis": {
            "backgroundcolor": "#E5ECF6",
            "gridcolor": "white",
            "gridwidth": 2,
            "linecolor": "white",
            "showbackground": true,
            "ticks": "",
            "zerolinecolor": "white"
           },
           "zaxis": {
            "backgroundcolor": "#E5ECF6",
            "gridcolor": "white",
            "gridwidth": 2,
            "linecolor": "white",
            "showbackground": true,
            "ticks": "",
            "zerolinecolor": "white"
           }
          },
          "shapedefaults": {
           "line": {
            "color": "#2a3f5f"
           }
          },
          "ternary": {
           "aaxis": {
            "gridcolor": "white",
            "linecolor": "white",
            "ticks": ""
           },
           "baxis": {
            "gridcolor": "white",
            "linecolor": "white",
            "ticks": ""
           },
           "bgcolor": "#E5ECF6",
           "caxis": {
            "gridcolor": "white",
            "linecolor": "white",
            "ticks": ""
           }
          },
          "title": {
           "x": 0.05
          },
          "xaxis": {
           "automargin": true,
           "gridcolor": "white",
           "linecolor": "white",
           "ticks": "",
           "title": {
            "standoff": 15
           },
           "zerolinecolor": "white",
           "zerolinewidth": 2
          },
          "yaxis": {
           "automargin": true,
           "gridcolor": "white",
           "linecolor": "white",
           "ticks": "",
           "title": {
            "standoff": 15
           },
           "zerolinecolor": "white",
           "zerolinewidth": 2
          }
         }
        },
        "title": {
         "text": "Fruit Quantity Bar Plot"
        },
        "xaxis": {
         "anchor": "y",
         "domain": [
          0,
          1
         ],
         "title": {
          "text": "Fruit"
         }
        },
        "yaxis": {
         "anchor": "x",
         "domain": [
          0,
          1
         ],
         "title": {
          "text": "Quantity"
         }
        }
       }
      }
     },
     "metadata": {},
     "output_type": "display_data"
    }
   ],
   "source": [
    "# Generate a bar plot using Plotly ? \n",
    "import plotly.express as px\n",
    "data = {\n",
    "    'Fruit': ['Apples', 'Bananas', 'Cherries', 'Dates'],\n",
    "    'Quantity': [50, 30, 20, 15]\n",
    "}\n",
    "import pandas as pd\n",
    "df = pd.DataFrame(data)\n",
    "fig = px.bar(df, x='Fruit', y='Quantity', title='Fruit Quantity Bar Plot')\n",
    "fig.show()\n"
   ]
  },
  {
   "cell_type": "code",
   "execution_count": 7,
   "id": "9612001e-f02e-4a9e-b22b-66222f3254b7",
   "metadata": {},
   "outputs": [
    {
     "name": "stdout",
     "output_type": "stream",
     "text": [
      "      Name  Salary   Bonus\n",
      "0    Alice   50000  5000.0\n",
      "1      Bob   60000  6000.0\n",
      "2  Charlie   55000  5500.0\n",
      "3    David   70000  7000.0\n"
     ]
    }
   ],
   "source": [
    "# Create a DataFrame and add a new column based on an existing column ?\n",
    "import pandas as pd\n",
    "data = {\n",
    "    'Name': ['Alice', 'Bob', 'Charlie', 'David'],\n",
    "    'Salary': [50000, 60000, 55000, 70000]\n",
    "}\n",
    "\n",
    "df = pd.DataFrame(data)\n",
    "\n",
    "df['Bonus'] = df['Salary'] * 0.10\n",
    "\n",
    "print(df)\n"
   ]
  },
  {
   "cell_type": "code",
   "execution_count": 8,
   "id": "15b5214e-e02d-4b92-b692-5b5399abea96",
   "metadata": {},
   "outputs": [
    {
     "name": "stdout",
     "output_type": "stream",
     "text": [
      "Array 1: [1 2 3 4]\n",
      "Array 2: [10 20 30 40]\n",
      "Element-wise Multiplication: [ 10  40  90 160]\n"
     ]
    }
   ],
   "source": [
    "# Write a program to perform element-wise multiplication of two NumPy arrays\n",
    "import numpy as np\n",
    "array1 = np.array([1, 2, 3, 4])\n",
    "array2 = np.array([10, 20, 30, 40])\n",
    "\n",
    "result = array1 * array2\n",
    "print(\"Array 1:\", array1)\n",
    "print(\"Array 2:\", array2)\n",
    "print(\"Element-wise Multiplication:\", result)\n"
   ]
  },
  {
   "cell_type": "code",
   "execution_count": 9,
   "id": "9262101f-86bc-4cf2-9081-9770d0b1bd13",
   "metadata": {},
   "outputs": [
    {
     "data": {
      "image/png": "[encoded data removed]",
      "text/plain": [
       "<Figure size 640x480 with 1 Axes>"
      ]
     },
     "metadata": {},
     "output_type": "display_data"
    }
   ],
   "source": [
    "#Create a line plot with multiple lines using Matplotlib ?\n",
    "import matplotlib.pyplot as plt\n",
    "x = [1, 2, 3, 4, 5]\n",
    "y1 = [10, 20, 25, 30, 40]\n",
    "y2 = [5, 15, 20, 22, 35]\n",
    "plt.plot(x, y1, label='Line 1', color='blue', marker='o')\n",
    "plt.plot(x, y2, label='Line 2', color='green', marker='s')\n",
    "\n",
    "plt.title('Multiple Line Plot')\n",
    "plt.xlabel('X-axis')\n",
    "plt.ylabel('Y-axis')\n",
    "\n",
    "plt.legend()\n",
    "\n",
    "# Show the plot\n",
    "plt.show()\n"
   ]
  },
  {
   "cell_type": "code",
   "execution_count": 11,
   "id": "2f6d900b-22c1-43cd-8e9b-0b2823afc50d",
   "metadata": {},
   "outputs": [
    {
     "name": "stdout",
     "output_type": "stream",
     "text": [
      "Filtered DataFrame:\n",
      "     Name  Salary\n",
      "1    Bob   60000\n",
      "3  David   70000\n"
     ]
    }
   ],
   "source": [
    "# Generate a Pandas DataFrame and filter rows where a column value is greater than a threshold ? \n",
    "import pandas as pd\n",
    "data = {\n",
    "    'Name': ['Alice', 'Bob', 'Charlie', 'David'],\n",
    "    'Salary': [50000, 60000, 55000, 70000]\n",
    "}\n",
    "\n",
    "df = pd.DataFrame(data)\n",
    "filtered_df = df[df['Salary'] > 55000]\n",
    "\n",
    "print(\"Filtered DataFrame:\\n\", filtered_df)\n"
   ]
  },
  {
   "cell_type": "code",
   "execution_count": 17,
   "id": "32aca378-56b4-48a0-8f5d-2f4b77565e52",
   "metadata": {},
   "outputs": [
    {
     "data": {
      "image/png": "[encoded data removed]",
      "text/plain": [
       "<Figure size 640x480 with 1 Axes>"
      ]
     },
     "metadata": {},
     "output_type": "display_data"
    }
   ],
   "source": [
    "# Create a histogram using Seaborn to visualize a distribution ? \n",
    "import seaborn as sns\n",
    "import matplotlib.pyplot as plt\n",
    "import pandas as pd\n",
    "data = {'Age': [22, 25, 27, 30, 22, 25, 26, 27, 28, 29, 30, 31, 32, 33, 35]}\n",
    "df = pd.DataFrame(data)\n",
    "\n",
    "sns.histplot(df['Age'], bins=8, kde=False, color='skyblue')\n",
    "\n",
    "plt.title(\"Age Distribution Histogram\")\n",
    "plt.xlabel(\"Age\")\n",
    "plt.ylabel(\"Frequency\")\n",
    "\n",
    "plt.show()\n"
   ]
  },
  {
   "cell_type": "code",
   "execution_count": 12,
   "id": "2bacdaad-5885-4ae9-9b4c-9d737092248d",
   "metadata": {},
   "outputs": [
    {
     "name": "stdout",
     "output_type": "stream",
     "text": [
      "Matrix A:\n",
      " [[1 2]\n",
      " [3 4]]\n",
      "Matrix B:\n",
      " [[5 6]\n",
      " [7 8]]\n",
      "Matrix Multiplication Result:\n",
      " [[19 22]\n",
      " [43 50]]\n"
     ]
    }
   ],
   "source": [
    "# Perform matrix multiplication using NumPy ?\n",
    "import numpy as np\n",
    "A = np.array([[1, 2],\n",
    "              [3, 4]])\n",
    "\n",
    "B = np.array([[5, 6],\n",
    "              [7, 8]])\n",
    "result = np.dot(A, B)\n",
    "\n",
    "print(\"Matrix A:\\n\", A)\n",
    "print(\"Matrix B:\\n\", B)\n",
    "print(\"Matrix Multiplication Result:\\n\", result)\n"
   ]
  },
  {
   "cell_type": "code",
   "execution_count": 16,
   "id": "e1c532c3-8057-460e-955d-4c1a313ddf1f",
   "metadata": {},
   "outputs": [
    {
     "name": "stdout",
     "output_type": "stream",
     "text": [
      "      Name  Age       City\n",
      "0    Alice   25      Delhi\n",
      "1      Bob   30     Mumbai\n",
      "2  Charlie   22    Chennai\n",
      "3    David   35  Bangalore\n",
      "4      Eva   28    Kolkata\n"
     ]
    }
   ],
   "source": [
    "# Use Pandas to load a CSV file and display its first 5 rows ? \n",
    "import pandas as pd\n",
    "df = pd.read_csv('sample_data.csv')\n",
    "print(df.head())\n",
    "\n"
   ]
  },
  {
   "cell_type": "code",
   "execution_count": 21,
   "id": "9e9f0538-ef2a-463d-b97a-c345aaae073d",
   "metadata": {},
   "outputs": [
    {
     "data": {
      "application/vnd.plotly.v1+json": {
       "config": {
        "plotlyServerURL": "https://plot.ly"
       },
       "data": [
        {
         "hovertemplate": "Label=A<br>X=%{x}<br>Y=%{y}<br>Z=%{z}<extra></extra>",
         "legendgroup": "A",
         "marker": {
          "color": "#636efa",
          "symbol": "circle"
         },
         "mode": "markers",
         "name": "A",
         "scene": "scene",
         "showlegend": true,
         "type": "scatter3d",
         "x": {
          "bdata": "AQ==",
          "dtype": "i1"
         },
         "y": {
          "bdata": "Cg==",
          "dtype": "i1"
         },
         "z": {
          "bdata": "BQ==",
          "dtype": "i1"
         }
        },
        {
         "hovertemplate": "Label=B<br>X=%{x}<br>Y=%{y}<br>Z=%{z}<extra></extra>",
         "legendgroup": "B",
         "marker": {
          "color": "#EF553B",
          "symbol": "circle"
         },
         "mode": "markers",
         "name": "B",
         "scene": "scene",
         "showlegend": true,
         "type": "scatter3d",
         "x": {
          "bdata": "Ag==",
          "dtype": "i1"
         },
         "y": {
          "bdata": "FA==",
          "dtype": "i1"
         },
         "z": {
          "bdata": "Dw==",
          "dtype": "i1"
         }
        },
        {
         "hovertemplate": "Label=C<br>X=%{x}<br>Y=%{y}<br>Z=%{z}<extra></extra>",
         "legendgroup": "C",
         "marker": {
          "color": "#00cc96",
          "symbol": "circle"
         },
         "mode": "markers",
         "name": "C",
         "scene": "scene",
         "showlegend": true,
         "type": "scatter3d",
         "x": {
          "bdata": "Aw==",
          "dtype": "i1"
         },
         "y": {
          "bdata": "GQ==",
          "dtype": "i1"
         },
         "z": {
          "bdata": "Cg==",
          "dtype": "i1"
         }
        },
        {
         "hovertemplate": "Label=D<br>X=%{x}<br>Y=%{y}<br>Z=%{z}<extra></extra>",
         "legendgroup": "D",
         "marker": {
          "color": "#ab63fa",
          "symbol": "circle"
         },
         "mode": "markers",
         "name": "D",
         "scene": "scene",
         "showlegend": true,
         "type": "scatter3d",
         "x": {
          "bdata": "BA==",
          "dtype": "i1"
         },
         "y": {
          "bdata": "Hg==",
          "dtype": "i1"
         },
         "z": {
          "bdata": "FA==",
          "dtype": "i1"
         }
        },
        {
         "hovertemplate": "Label=E<br>X=%{x}<br>Y=%{y}<br>Z=%{z}<extra></extra>",
         "legendgroup": "E",
         "marker": {
          "color": "#FFA15A",
          "symbol": "circle"
         },
         "mode": "markers",
         "name": "E",
         "scene": "scene",
         "showlegend": true,
         "type": "scatter3d",
         "x": {
          "bdata": "BQ==",
          "dtype": "i1"
         },
         "y": {
          "bdata": "Iw==",
          "dtype": "i1"
         },
         "z": {
          "bdata": "GQ==",
          "dtype": "i1"
         }
        }
       ],
       "layout": {
        "legend": {
         "title": {
          "text": "Label"
         },
         "tracegroupgap": 0
        },
        "margin": {
         "t": 60
        },
        "scene": {
         "domain": {
          "x": [
           0,
           1
          ],
          "y": [
           0,
           1
          ]
         },
         "xaxis": {
          "title": {
           "text": "X"
          }
         },
         "yaxis": {
          "title": {
           "text": "Y"
          }
         },
         "zaxis": {
          "title": {
           "text": "Z"
          }
         }
        },
        "template": {
         "data": {
          "bar": [
           {
            "error_x": {
             "color": "#2a3f5f"
            },
            "error_y": {
             "color": "#2a3f5f"
            },
            "marker": {
             "line": {
              "color": "#E5ECF6",
              "width": 0.5
             },
             "pattern": {
              "fillmode": "overlay",
              "size": 10,
              "solidity": 0.2
             }
            },
            "type": "bar"
           }
          ],
          "barpolar": [
           {
            "marker": {
             "line": {
              "color": "#E5ECF6",
              "width": 0.5
             },
             "pattern": {
              "fillmode": "overlay",
              "size": 10,
              "solidity": 0.2
             }
            },
            "type": "barpolar"
           }
          ],
          "carpet": [
           {
            "aaxis": {
             "endlinecolor": "#2a3f5f",
             "gridcolor": "white",
             "linecolor": "white",
             "minorgridcolor": "white",
             "startlinecolor": "#2a3f5f"
            },
            "baxis": {
             "endlinecolor": "#2a3f5f",
             "gridcolor": "white",
             "linecolor": "white",
             "minorgridcolor": "white",
             "startlinecolor": "#2a3f5f"
            },
            "type": "carpet"
           }
          ],
          "choropleth": [
           {
            "colorbar": {
             "outlinewidth": 0,
             "ticks": ""
            },
            "type": "choropleth"
           }
          ],
          "contour": [
           {
            "colorbar": {
             "outlinewidth": 0,
             "ticks": ""
            },
            "colorscale": [
             [
              0,
              "#0d0887"
             ],
             [
              0.1111111111111111,
              "#46039f"
             ],
             [
              0.2222222222222222,
              "#7201a8"
             ],
             [
              0.3333333333333333,
              "#9c179e"
             ],
             [
              0.4444444444444444,
              "#bd3786"
             ],
             [
              0.5555555555555556,
              "#d8576b"
             ],
             [
              0.6666666666666666,
              "#ed7953"
             ],
             [
              0.7777777777777778,
              "#fb9f3a"
             ],
             [
              0.8888888888888888,
              "#fdca26"
             ],
             [
              1,
              "#f0f921"
             ]
            ],
            "type": "contour"
           }
          ],
          "contourcarpet": [
           {
            "colorbar": {
             "outlinewidth": 0,
             "ticks": ""
            },
            "type": "contourcarpet"
           }
          ],
          "heatmap": [
           {
            "colorbar": {
             "outlinewidth": 0,
             "ticks": ""
            },
            "colorscale": [
             [
              0,
              "#0d0887"
             ],
             [
              0.1111111111111111,
              "#46039f"
             ],
             [
              0.2222222222222222,
              "#7201a8"
             ],
             [
              0.3333333333333333,
              "#9c179e"
             ],
             [
              0.4444444444444444,
              "#bd3786"
             ],
             [
              0.5555555555555556,
              "#d8576b"
             ],
             [
              0.6666666666666666,
              "#ed7953"
             ],
             [
              0.7777777777777778,
              "#fb9f3a"
             ],
             [
              0.8888888888888888,
              "#fdca26"
             ],
             [
              1,
              "#f0f921"
             ]
            ],
            "type": "heatmap"
           }
          ],
          "histogram": [
           {
            "marker": {
             "pattern": {
              "fillmode": "overlay",
              "size": 10,
              "solidity": 0.2
             }
            },
            "type": "histogram"
           }
          ],
          "histogram2d": [
           {
            "colorbar": {
             "outlinewidth": 0,
             "ticks": ""
            },
            "colorscale": [
             [
              0,
              "#0d0887"
             ],
             [
              0.1111111111111111,
              "#46039f"
             ],
             [
              0.2222222222222222,
              "#7201a8"
             ],
             [
              0.3333333333333333,
              "#9c179e"
             ],
             [
              0.4444444444444444,
              "#bd3786"
             ],
             [
              0.5555555555555556,
              "#d8576b"
             ],
             [
              0.6666666666666666,
              "#ed7953"
             ],
             [
              0.7777777777777778,
              "#fb9f3a"
             ],
             [
              0.8888888888888888,
              "#fdca26"
             ],
             [
              1,
              "#f0f921"
             ]
            ],
            "type": "histogram2d"
           }
          ],
          "histogram2dcontour": [
           {
            "colorbar": {
             "outlinewidth": 0,
             "ticks": ""
            },
            "colorscale": [
             [
              0,
              "#0d0887"
             ],
             [
              0.1111111111111111,
              "#46039f"
             ],
             [
              0.2222222222222222,
              "#7201a8"
             ],
             [
              0.3333333333333333,
              "#9c179e"
             ],
             [
              0.4444444444444444,
              "#bd3786"
             ],
             [
              0.5555555555555556,
              "#d8576b"
             ],
             [
              0.6666666666666666,
              "#ed7953"
             ],
             [
              0.7777777777777778,
              "#fb9f3a"
             ],
             [
              0.8888888888888888,
              "#fdca26"
             ],
             [
              1,
              "#f0f921"
             ]
            ],
            "type": "histogram2dcontour"
           }
          ],
          "mesh3d": [
           {
            "colorbar": {
             "outlinewidth": 0,
             "ticks": ""
            },
            "type": "mesh3d"
           }
          ],
          "parcoords": [
           {
            "line": {
             "colorbar": {
              "outlinewidth": 0,
              "ticks": ""
             }
            },
            "type": "parcoords"
           }
          ],
          "pie": [
           {
            "automargin": true,
            "type": "pie"
           }
          ],
          "scatter": [
           {
            "fillpattern": {
             "fillmode": "overlay",
             "size": 10,
             "solidity": 0.2
            },
            "type": "scatter"
           }
          ],
          "scatter3d": [
           {
            "line": {
             "colorbar": {
              "outlinewidth": 0,
              "ticks": ""
             }
            },
            "marker": {
             "colorbar": {
              "outlinewidth": 0,
              "ticks": ""
             }
            },
            "type": "scatter3d"
           }
          ],
          "scattercarpet": [
           {
            "marker": {
             "colorbar": {
              "outlinewidth": 0,
              "ticks": ""
             }
            },
            "type": "scattercarpet"
           }
          ],
          "scattergeo": [
           {
            "marker": {
             "colorbar": {
              "outlinewidth": 0,
              "ticks": ""
             }
            },
            "type": "scattergeo"
           }
          ],
          "scattergl": [
           {
            "marker": {
             "colorbar": {
              "outlinewidth": 0,
              "ticks": ""
             }
            },
            "type": "scattergl"
           }
          ],
          "scattermap": [
           {
            "marker": {
             "colorbar": {
              "outlinewidth": 0,
              "ticks": ""
             }
            },
            "type": "scattermap"
           }
          ],
          "scattermapbox": [
           {
            "marker": {
             "colorbar": {
              "outlinewidth": 0,
              "ticks": ""
             }
            },
            "type": "scattermapbox"
           }
          ],
          "scatterpolar": [
           {
            "marker": {
             "colorbar": {
              "outlinewidth": 0,
              "ticks": ""
             }
            },
            "type": "scatterpolar"
           }
          ],
          "scatterpolargl": [
           {
            "marker": {
             "colorbar": {
              "outlinewidth": 0,
              "ticks": ""
             }
            },
            "type": "scatterpolargl"
           }
          ],
          "scatterternary": [
           {
            "marker": {
             "colorbar": {
              "outlinewidth": 0,
              "ticks": ""
             }
            },
            "type": "scatterternary"
           }
          ],
          "surface": [
           {
            "colorbar": {
             "outlinewidth": 0,
             "ticks": ""
            },
            "colorscale": [
             [
              0,
              "#0d0887"
             ],
             [
              0.1111111111111111,
              "#46039f"
             ],
             [
              0.2222222222222222,
              "#7201a8"
             ],
             [
              0.3333333333333333,
              "#9c179e"
             ],
             [
              0.4444444444444444,
              "#bd3786"
             ],
             [
              0.5555555555555556,
              "#d8576b"
             ],
             [
              0.6666666666666666,
              "#ed7953"
             ],
             [
              0.7777777777777778,
              "#fb9f3a"
             ],
             [
              0.8888888888888888,
              "#fdca26"
             ],
             [
              1,
              "#f0f921"
             ]
            ],
            "type": "surface"
           }
          ],
          "table": [
           {
            "cells": {
             "fill": {
              "color": "#EBF0F8"
             },
             "line": {
              "color": "white"
             }
            },
            "header": {
             "fill": {
              "color": "#C8D4E3"
             },
             "line": {
              "color": "white"
             }
            },
            "type": "table"
           }
          ]
         },
         "layout": {
          "annotationdefaults": {
           "arrowcolor": "#2a3f5f",
           "arrowhead": 0,
           "arrowwidth": 1
          },
          "autotypenumbers": "strict",
          "coloraxis": {
           "colorbar": {
            "outlinewidth": 0,
            "ticks": ""
           }
          },
          "colorscale": {
           "diverging": [
            [
             0,
             "#8e0152"
            ],
            [
             0.1,
             "#c51b7d"
            ],
            [
             0.2,
             "#de77ae"
            ],
            [
             0.3,
             "#f1b6da"
            ],
            [
             0.4,
             "#fde0ef"
            ],
            [
             0.5,
             "#f7f7f7"
            ],
            [
             0.6,
             "#e6f5d0"
            ],
            [
             0.7,
             "#b8e186"
            ],
            [
             0.8,
             "#7fbc41"
            ],
            [
             0.9,
             "#4d9221"
            ],
            [
             1,
             "#276419"
            ]
           ],
           "sequential": [
            [
             0,
             "#0d0887"
            ],
            [
             0.1111111111111111,
             "#46039f"
            ],
            [
             0.2222222222222222,
             "#7201a8"
            ],
            [
             0.3333333333333333,
             "#9c179e"
            ],
            [
             0.4444444444444444,
             "#bd3786"
            ],
            [
             0.5555555555555556,
             "#d8576b"
            ],
            [
             0.6666666666666666,
             "#ed7953"
            ],
            [
             0.7777777777777778,
             "#fb9f3a"
            ],
            [
             0.8888888888888888,
             "#fdca26"
            ],
            [
             1,
             "#f0f921"
            ]
           ],
           "sequentialminus": [
            [
             0,
             "#0d0887"
            ],
            [
             0.1111111111111111,
             "#46039f"
            ],
            [
             0.2222222222222222,
             "#7201a8"
            ],
            [
             0.3333333333333333,
             "#9c179e"
            ],
            [
             0.4444444444444444,
             "#bd3786"
            ],
            [
             0.5555555555555556,
             "#d8576b"
            ],
            [
             0.6666666666666666,
             "#ed7953"
            ],
            [
             0.7777777777777778,
             "#fb9f3a"
            ],
            [
             0.8888888888888888,
             "#fdca26"
            ],
            [
             1,
             "#f0f921"
            ]
           ]
          },
          "colorway": [
           "#636efa",
           "#EF553B",
           "#00cc96",
           "#ab63fa",
           "#FFA15A",
           "#19d3f3",
           "#FF6692",
           "#B6E880",
           "#FF97FF",
           "#FECB52"
          ],
          "font": {
           "color": "#2a3f5f"
          },
          "geo": {
           "bgcolor": "white",
           "lakecolor": "white",
           "landcolor": "#E5ECF6",
           "showlakes": true,
           "showland": true,
           "subunitcolor": "white"
          },
          "hoverlabel": {
           "align": "left"
          },
          "hovermode": "closest",
          "mapbox": {
           "style": "light"
          },
          "paper_bgcolor": "white",
          "plot_bgcolor": "#E5ECF6",
          "polar": {
           "angularaxis": {
            "gridcolor": "white",
            "linecolor": "white",
            "ticks": ""
           },
           "bgcolor": "#E5ECF6",
           "radialaxis": {
            "gridcolor": "white",
            "linecolor": "white",
            "ticks": ""
           }
          },
          "scene": {
           "xaxis": {
            "backgroundcolor": "#E5ECF6",
            "gridcolor": "white",
            "gridwidth": 2,
            "linecolor": "white",
            "showbackground": true,
            "ticks": "",
            "zerolinecolor": "white"
           },
           "yaxis": {
            "backgroundcolor": "#E5ECF6",
            "gridcolor": "white",
            "gridwidth": 2,
            "linecolor": "white",
            "showbackground": true,
            "ticks": "",
            "zerolinecolor": "white"
           },
           "zaxis": {
            "backgroundcolor": "#E5ECF6",
            "gridcolor": "white",
            "gridwidth": 2,
            "linecolor": "white",
            "showbackground": true,
            "ticks": "",
            "zerolinecolor": "white"
           }
          },
          "shapedefaults": {
           "line": {
            "color": "#2a3f5f"
           }
          },
          "ternary": {
           "aaxis": {
            "gridcolor": "white",
            "linecolor": "white",
            "ticks": ""
           },
           "baxis": {
            "gridcolor": "white",
            "linecolor": "white",
            "ticks": ""
           },
           "bgcolor": "#E5ECF6",
           "caxis": {
            "gridcolor": "white",
            "linecolor": "white",
            "ticks": ""
           }
          },
          "title": {
           "x": 0.05
          },
          "xaxis": {
           "automargin": true,
           "gridcolor": "white",
           "linecolor": "white",
           "ticks": "",
           "title": {
            "standoff": 15
           },
           "zerolinecolor": "white",
           "zerolinewidth": 2
          },
          "yaxis": {
           "automargin": true,
           "gridcolor": "white",
           "linecolor": "white",
           "ticks": "",
           "title": {
            "standoff": 15
           },
           "zerolinecolor": "white",
           "zerolinewidth": 2
          }
         }
        }
       }
      }
     },
     "metadata": {},
     "output_type": "display_data"
    }
   ],
   "source": [
    " # Create a 3D scatter plot using Plotly ?\n",
    "import plotly.express as px\n",
    "import pandas as pd\n",
    "data = {\n",
    "    'X': [1, 2, 3, 4, 5],\n",
    "    'Y': [10, 20, 25, 30, 35],\n",
    "    'Z': [5, 15, 10, 20, 25],\n",
    "    'Label': ['A', 'B', 'C', 'D', 'E']\n",
    "}\n",
    "\n",
    "df = pd.DataFrame(data)\n",
    "\n",
    "fig = px.scatter_3d(df, x='X', y='Y', z='Z', color='Label', size_max=10)\n",
    "\n",
    "\n",
    "fig.show()\n"
   ]
  },
  {
   "cell_type": "code",
   "execution_count": null,
   "id": "fd8aa2a8-fdba-4cf7-b0ce-963fb782415d",
   "metadata": {},
   "outputs": [],
   "source": []
  }
 ],
 "metadata": {
  "kernelspec": {
   "display_name": "Python 3 (ipykernel)",
   "language": "python",
   "name": "python3"
  },
  "language_info": {
   "codemirror_mode": {
    "name": "ipython",
    "version": 3
   },
   "file_extension": ".py",
   "mimetype": "text/x-python",
   "name": "python",
   "nbconvert_exporter": "python",
   "pygments_lexer": "ipython3",
   "version": "3.13.3"
  }
 },
 "nbformat": 4,
 "nbformat_minor": 5
}
